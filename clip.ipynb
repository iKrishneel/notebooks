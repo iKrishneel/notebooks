{
 "cells": [
  {
   "cell_type": "code",
   "execution_count": null,
   "id": "7290444b-c77d-4f10-a80c-0946741a2837",
   "metadata": {
    "tags": []
   },
   "outputs": [],
   "source": [
    "import numpy as np\n",
    "import torch\n",
    "from torchvision.io import read_image\n",
    "import clip\n",
    "\n",
    "from PIL import Image, ImageDraw\n",
    "import matplotlib.pyplot as plt"
   ]
  },
  {
   "cell_type": "code",
   "execution_count": null,
   "id": "33a26d2c-76fa-4a6e-a64b-012067bce648",
   "metadata": {
    "tags": []
   },
   "outputs": [],
   "source": [
    "model, preprocessng = clip.load('RN50')"
   ]
  },
  {
   "cell_type": "code",
   "execution_count": null,
   "id": "d42a88ff-8b05-4c61-9939-d1174b396246",
   "metadata": {
    "tags": []
   },
   "outputs": [],
   "source": [
    "from torchvision.ops import RoIAlign"
   ]
  },
  {
   "cell_type": "code",
   "execution_count": null,
   "id": "c82db1e7-5342-434e-bb5b-81461febd6e4",
   "metadata": {
    "tags": []
   },
   "outputs": [],
   "source": [
    "preprocessng"
   ]
  },
  {
   "cell_type": "code",
   "execution_count": null,
   "id": "f992aa19-91c9-435c-b988-cab5c2b9351a",
   "metadata": {
    "tags": []
   },
   "outputs": [],
   "source": [
    "image = Image.open('/root/krishneel/Downloads/2023-06-13-16-09-53/image/000000.jpg')\n",
    "\n",
    "bbox = [550, 100, 720, 500]\n",
    "# bbox = [0, 0, 1280, 720]\n",
    "\n",
    "im = image.copy()\n",
    "draw = ImageDraw.Draw(im)\n",
    "draw.rectangle([tuple(bbox[:2]), tuple(bbox[2:])], outline='red', width=3)\n",
    "\n",
    "im"
   ]
  },
  {
   "cell_type": "code",
   "execution_count": null,
   "id": "7d293197-dbc4-4746-b701-d7e8d01fa13a",
   "metadata": {
    "tags": []
   },
   "outputs": [],
   "source": [
    "x = img.permute((1, 2, 0)).numpy()\n",
    "x1, y1, x2, y2 = bb[0].cpu().int().numpy()\n",
    "\n",
    "x = x[y1: y2, x1: x2]\n",
    "plt.imshow(x)"
   ]
  },
  {
   "cell_type": "code",
   "execution_count": null,
   "id": "f3ee006d-1c69-4e2a-bf69-f870659b20b3",
   "metadata": {
    "tags": []
   },
   "outputs": [],
   "source": [
    "bb = torch.Tensor([bbox]).to(torch.float32).cuda()\n",
    "\n",
    "from torchvision.transforms.v2 import functional as F\n",
    "\n",
    "# bb = F.resize_bounding_box(bb, image.size[::-1], [224, 224])\n",
    "# bb = bb[0]"
   ]
  },
  {
   "cell_type": "code",
   "execution_count": null,
   "id": "3bc7fa89-4d9c-4632-9e82-98694a488dce",
   "metadata": {
    "tags": []
   },
   "outputs": [],
   "source": [
    "roi = RoIAlign([45, 80], 1/16.0, 0)\n",
    "t = roi(features.float(), [bb])[0].cpu().numpy()\n",
    "\n",
    "t = make_square_grid(t[:32])\n",
    "plt.imshow(t)"
   ]
  },
  {
   "cell_type": "code",
   "execution_count": null,
   "id": "e8e70c7d-ca38-4266-8ff2-9b12d2b7686f",
   "metadata": {
    "tags": []
   },
   "outputs": [],
   "source": [
    "features = []\n",
    "def hook(n, i, o):\n",
    "    global features\n",
    "    features = o\n",
    "    \n",
    "hid = model.visual.layer3.register_forward_hook(hook)"
   ]
  },
  {
   "cell_type": "code",
   "execution_count": null,
   "id": "e9f002ca-8e4e-4772-b5c3-46bd3de36057",
   "metadata": {
    "tags": []
   },
   "outputs": [],
   "source": [
    "# img = preprocessng(image)\n",
    "img = torch.from_numpy(np.asarray(image)).permute(2, 0, 1).float() / 255.0\n",
    "\n",
    "with torch.no_grad():\n",
    "    y = model.visual(img.cuda()[None, :])\n",
    "    \n",
    "hid.remove()"
   ]
  },
  {
   "cell_type": "code",
   "execution_count": null,
   "id": "cf3c8146-040b-4934-b571-968ec8d60080",
   "metadata": {
    "tags": []
   },
   "outputs": [],
   "source": [
    "x = features[0].float().cpu().numpy()\n",
    "print(x.shape)\n",
    "\n",
    "from igniter.visualizer import make_square_grid\n",
    "\n",
    "z = make_square_grid(x[:36])\n",
    "\n",
    "plt.rcParams['figure.figsize'] = [20, 16]\n",
    "plt.imshow(z)"
   ]
  }
 ],
 "metadata": {
  "kernelspec": {
   "display_name": "Python 3 (ipykernel)",
   "language": "python",
   "name": "python3"
  },
  "language_info": {
   "codemirror_mode": {
    "name": "ipython",
    "version": 3
   },
   "file_extension": ".py",
   "mimetype": "text/x-python",
   "name": "python",
   "nbconvert_exporter": "python",
   "pygments_lexer": "ipython3",
   "version": "3.8.10"
  }
 },
 "nbformat": 4,
 "nbformat_minor": 5
}
