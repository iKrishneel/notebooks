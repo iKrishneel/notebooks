{
 "cells": [
  {
   "cell_type": "code",
   "execution_count": 19,
   "id": "111ff3ce-a50a-4af7-a1e2-9fc0dbf7698f",
   "metadata": {
    "tags": []
   },
   "outputs": [],
   "source": [
    "import numpy as np\n",
    "import matplotlib.pyplot as plt"
   ]
  },
  {
   "cell_type": "code",
   "execution_count": 69,
   "id": "4b86e264-282d-4b7f-9e4d-6e5a5a5fed69",
   "metadata": {
    "tags": []
   },
   "outputs": [],
   "source": [
    "def gaussian_kernel(x, y, s=1.0):\n",
    "    distances = np.sum((x - y)**2, axis=2)\n",
    "    return np.exp(-distances ** 2 / (2 * s**2))"
   ]
  },
  {
   "cell_type": "code",
   "execution_count": 71,
   "id": "2dcf77ef-6563-48db-8a2c-4adcdb7e75ec",
   "metadata": {
    "tags": []
   },
   "outputs": [
    {
     "data": {
      "text/plain": [
       "<matplotlib.image.AxesImage at 0x7f0d5d6eb880>"
      ]
     },
     "execution_count": 71,
     "metadata": {},
     "output_type": "execute_result"
    },
    {
     "data": {
      "image/png": "[encoded data removed]",
      "text/plain": [
       "<Figure size 640x480 with 1 Axes>"
      ]
     },
     "metadata": {},
     "output_type": "display_data"
    }
   ],
   "source": [
    "x_values = np.random.random((10, 100, 2))\n",
    "y_values = np.random.random((10, 100, 2))\n",
    "\n",
    "similarity_grid = gaussian_kernel(x_values, y_values, 1)\n",
    "\n",
    "# plt.imshow(np.hstack([x_grid, y_grid]))\n",
    "plt.imshow(similarity_grid)"
   ]
  },
  {
   "cell_type": "markdown",
   "id": "0f1a7e13-a215-4dff-9fbe-b66158850251",
   "metadata": {},
   "source": [
    "## Kernel Density Estimation\n",
    "https://docs.scipy.org/doc/scipy/reference/generated/scipy.stats.gaussian_kde.html"
   ]
  },
  {
   "cell_type": "code",
   "execution_count": null,
   "id": "fde465af-b430-462f-8ee4-6fc516b06abf",
   "metadata": {
    "tags": []
   },
   "outputs": [],
   "source": [
    "from scipy import stats\n",
    "\n",
    "\n",
    "def measure(n):\n",
    "    \"Measurement model, return two coupled measurements.\"\n",
    "    m1 = np.random.normal(size=n)\n",
    "    m2 = np.random.normal(scale=0.5, size=n)\n",
    "    return m1+m2, m1-m2\n",
    "\n",
    "m1, m2 = measure(2000)\n",
    "xmin = m1.min()\n",
    "xmax = m1.max()\n",
    "ymin = m2.min()\n",
    "ymax = m2.max()\n",
    "\n",
    "X, Y = np.mgrid[xmin:xmax:50j, ymin:ymax:50j]\n",
    "\n",
    "print(X.shape, Y.shape)\n",
    "\n",
    "positions = np.vstack([X.ravel(), Y.ravel()])\n",
    "values = np.vstack([m1, m2])\n",
    "kernel = stats.gaussian_kde(values)\n",
    "Z = np.reshape(kernel(positions).T, X.shape)\n",
    "\n",
    "fig, ax = plt.subplots()\n",
    "ax.imshow(np.rot90(Z), cmap=plt.cm.gist_earth_r, extent=[xmin, xmax, ymin, ymax])\n",
    "ax.plot(m1, m2, 'k.', markersize=2)\n",
    "ax.set_xlim([xmin, xmax])\n",
    "ax.set_ylim([ymin, ymax])\n",
    "plt.show()"
   ]
  },
  {
   "cell_type": "code",
   "execution_count": 158,
   "id": "47356d69-42b0-46f6-adcd-748897e5ef54",
   "metadata": {
    "tags": []
   },
   "outputs": [
    {
     "name": "stdout",
     "output_type": "stream",
     "text": [
      "[0 1 2 3 6 9]\n",
      "[4 5]\n",
      "[ 1  1  1  1  2  2  1 -1 -1  1]\n",
      "[[0.5488135039273248, 0.7151893663724195], [0.6027633760716439, 0.5448831829968969], [0.4236547993389047, 0.6458941130666561], [0.4375872112626925, 0.8917730007820798], [0.9636627605010293, 0.3834415188257777], [0.7917250380826646, 0.5288949197529045], [0.5680445610939323, 0.925596638292661], [0.07103605819788694, 0.08712929970154071], [0.02021839744032572, 0.832619845547938], [0.7781567509498505, 0.8700121482468192]]\n"
     ]
    },
    {
     "data": {
      "image/png": "[encoded data removed]",
      "text/plain": [
       "<Figure size 640x480 with 1 Axes>"
      ]
     },
     "metadata": {},
     "output_type": "display_data"
    }
   ],
   "source": [
    "def dbscan(X, epsilon, min_pts):\n",
    "    \"\"\"\n",
    "    Perform DBSCAN clustering on the given dataset.\n",
    "\n",
    "    Args:\n",
    "        X (numpy.ndarray): Input data points, shape (n_samples, n_features).\n",
    "        epsilon (float): The radius of the neighborhood.\n",
    "        min_pts (int): The minimum number of points in a neighborhood to form a core point.\n",
    "\n",
    "    Returns:\n",
    "        labels (numpy.ndarray): Cluster labels assigned to each data point. Noise points are labeled as -1.\n",
    "    \"\"\"\n",
    "\n",
    "    n_samples = X.shape[0]\n",
    "    visited = np.zeros(n_samples, dtype=bool)  # Track visited points\n",
    "    labels = np.zeros(n_samples, dtype=int)    # Cluster labels (-1 for noise points)\n",
    "    cluster_id = 0                             # Current cluster ID\n",
    "\n",
    "    for i in range(n_samples):\n",
    "        if visited[i]:\n",
    "            continue\n",
    "\n",
    "        visited[i] = True\n",
    "        neighbors = get_neighbors(X, i, epsilon)  # Find neighbors within epsilon radius\n",
    "\n",
    "        if len(neighbors) < min_pts:\n",
    "            labels[i] = -1  # Assign noise label\n",
    "        else:\n",
    "            cluster_id += 1\n",
    "            labels[i] = cluster_id\n",
    "            expand_cluster(X, i, neighbors, cluster_id, epsilon, min_pts, visited, labels)\n",
    "\n",
    "    return labels\n",
    "\n",
    "\n",
    "def get_neighbors(X, idx, epsilon):\n",
    "    \"\"\"\n",
    "    Find the indices of all points within epsilon distance of the given point.\n",
    "\n",
    "    Args:\n",
    "        X (numpy.ndarray): Input data points, shape (n_samples, n_features).\n",
    "        idx (int): Index of the current point.\n",
    "        epsilon (float): The radius of the neighborhood.\n",
    "\n",
    "    Returns:\n",
    "        neighbors (numpy.ndarray): Indices of points within epsilon distance of the current point.\n",
    "    \"\"\"\n",
    "\n",
    "    dists = np.linalg.norm(X - X[idx], axis=1)  # Euclidean distance to all other points\n",
    "    neighbors = np.where(dists <= epsilon)[0]\n",
    "    return neighbors\n",
    "\n",
    "\n",
    "def expand_cluster(X, idx, neighbors, cluster_id, epsilon, min_pts, visited, labels):\n",
    "    \"\"\"\n",
    "    Expand the cluster by recursively adding density-reachable points.\n",
    "\n",
    "    Args:\n",
    "        X (numpy.ndarray): Input data points, shape (n_samples, n_features).\n",
    "        idx (int): Index of the current point.\n",
    "        neighbors (numpy.ndarray): Indices of neighboring points.\n",
    "        cluster_id (int): Current cluster ID.\n",
    "        epsilon (float): The radius of the neighborhood.\n",
    "        min_pts (int): The minimum number of points in a neighborhood to form a core point.\n",
    "        visited (numpy.ndarray): Array to track visited points.\n",
    "        labels (numpy.ndarray): Cluster labels assigned to each data point.\n",
    "    \"\"\"\n",
    "\n",
    "    print(neighbors)\n",
    "    for neighbor in neighbors:\n",
    "       \n",
    "        if not visited[neighbor]:\n",
    "            visited[neighbor] = True\n",
    "            new_neighbors = get_neighbors(X, neighbor, epsilon)  # Find neighbors of the current neighbor\n",
    "\n",
    "            if len(new_neighbors) >= min_pts:\n",
    "                neighbors = np.concatenate((neighbors, new_neighbors))\n",
    "\n",
    "        if labels[neighbor] == 0:\n",
    "            labels[neighbor] = cluster_id\n",
    "\n",
    "\n",
    "# Example usage\n",
    "# X = np.array([[1, 2], [1, 3], [2, 2], [8, 7], [8, 8], [25, 80], [0, 0], [9, 10]])\n",
    "np.random.seed(0)\n",
    "points = np.random.random((10, 2))\n",
    "epsilon = 0.3\n",
    "min_pts = 2\n",
    "\n",
    "cluster_labels = dbscan(points, epsilon, min_pts)\n",
    "print(cluster_labels)\n",
    "\n",
    "plt.scatter(points[:, 0], points[:, 1], c=cluster_labels, cmap='jet')\n",
    "\n",
    "print(points.tolist())"
   ]
  }
 ],
 "metadata": {
  "kernelspec": {
   "display_name": "Python 3 (ipykernel)",
   "language": "python",
   "name": "python3"
  },
  "language_info": {
   "codemirror_mode": {
    "name": "ipython",
    "version": 3
   },
   "file_extension": ".py",
   "mimetype": "text/x-python",
   "name": "python",
   "nbconvert_exporter": "python",
   "pygments_lexer": "ipython3",
   "version": "3.8.10"
  }
 },
 "nbformat": 4,
 "nbformat_minor": 5
}
